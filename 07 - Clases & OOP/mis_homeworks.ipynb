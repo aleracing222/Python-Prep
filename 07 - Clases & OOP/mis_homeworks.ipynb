{
 "cells": [
  {
   "cell_type": "code",
   "execution_count": null,
   "metadata": {},
   "outputs": [],
   "source": [
    "#1) Crear la clase vehículo que contenga los atributos:\n",
    "#Si es moto, auto, camioneta ó camión\n",
    "#Cilindrada del motor"
   ]
  },
  {
   "cell_type": "code",
   "execution_count": null,
   "metadata": {},
   "outputs": [],
   "source": []
  },
  {
   "cell_type": "code",
   "execution_count": 13,
   "metadata": {},
   "outputs": [],
   "source": [
    "class Vehiculo:\n",
    "    def __init__(self, color, tipo, cilindrada):\n",
    "        self.color = color\n",
    "        self.tipo = tipo\n",
    "        self.cilindrada = cilindrada\n",
    "        self.velocidad = 0\n",
    "        self.direccion = 0\n",
    "\n",
    "    def Acelerar(self, vel):\n",
    "        self.velocidad += vel\n",
    "\n",
    "    def Frenar(self, vel):\n",
    "        self.velocidad -= vel\n",
    "    \n",
    "    def Doblar(self, grados):\n",
    "        self.direccion += grados\n",
    "\n",
    "    def Mostrar_estado(self):\n",
    "        print ('Estado:', self.velocidad, 'Direccion:', self.direccion)\n",
    "\n",
    "    def Datos(self):\n",
    "        print ('Color:', self.color, 'Tipo:',self.color, 'Cilindrada:',self.cilindrada)\n",
    "    \n",
    "    \n",
    "\n",
    "    "
   ]
  },
  {
   "cell_type": "code",
   "execution_count": 15,
   "metadata": {},
   "outputs": [],
   "source": [
    "#3) Instanciar 3 objetos de la clase vehículo y ejecutar sus métodos, probar luego el resultado\n",
    "v1 = Vehiculo('Rojo','Auto',2000)\n",
    "v2 = Vehiculo('Negro','Camioneta',1600)\n",
    "v3 = Vehiculo('Blanco','Camion',6000)\n",
    "\n"
   ]
  },
  {
   "cell_type": "code",
   "execution_count": 16,
   "metadata": {},
   "outputs": [],
   "source": [
    "v1.Acelerar(19)\n",
    "v2.Acelerar(80)\n",
    "v3.Acelerar(100)\n",
    "v1.Frenar(10)\n",
    "v1.Frenar(50)\n",
    "v1.Frenar(18)\n",
    "v1.Doblar(10)\n",
    "v2.Doblar(15)\n",
    "v3.Doblar(18)\n",
    "\n"
   ]
  },
  {
   "cell_type": "code",
   "execution_count": 17,
   "metadata": {},
   "outputs": [
    {
     "name": "stdout",
     "output_type": "stream",
     "text": [
      "Estado: -59 Direccion: 10\n",
      "Color: Rojo Tipo: Rojo Cilindrada: 2000\n"
     ]
    }
   ],
   "source": [
    "#4) Agregar a la clase Vehiculo, un método que muestre su estado, es decir, a que velocidad se encuentra y su dirección. \n",
    "#Y otro método que muestre color, tipo y cilindrada\n",
    "\n",
    "\n",
    "v1.Mostrar_estado()\n",
    "v1.Datos()"
   ]
  },
  {
   "cell_type": "code",
   "execution_count": null,
   "metadata": {},
   "outputs": [],
   "source": []
  },
  {
   "cell_type": "code",
   "execution_count": null,
   "metadata": {},
   "outputs": [],
   "source": [
    "\n",
    "\n",
    "\n",
    "5) Crear una clase que permita utilizar las funciones creadas en la práctica del módulo 6<br>\n",
    "Verificar Primo<br>\n",
    "Valor modal<br>\n",
    "Conversión grados<br>\n",
    "Factorial<br>\n",
    "\n",
    "6) Probar las funciones incorporadas en la clase del punto 5\n",
    "\n",
    "7) Es necesario que la clase creada en el punto 5 contenga una lista, sobre la cual se aplquen las funciones incorporadas\n",
    "\n",
    "8) Crear un archivo .py aparte y ubicar allí la clase generada en el punto anterior. Luego realizar la importación del módulo y probar alguna de sus funciones"
   ]
  }
 ],
 "metadata": {
  "kernelspec": {
   "display_name": "Python 3",
   "language": "python",
   "name": "python3"
  },
  "language_info": {
   "codemirror_mode": {
    "name": "ipython",
    "version": 3
   },
   "file_extension": ".py",
   "mimetype": "text/x-python",
   "name": "python",
   "nbconvert_exporter": "python",
   "pygments_lexer": "ipython3",
   "version": "3.11.3"
  },
  "orig_nbformat": 4
 },
 "nbformat": 4,
 "nbformat_minor": 2
}
