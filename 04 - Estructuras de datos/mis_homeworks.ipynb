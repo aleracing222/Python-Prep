{
 "cells": [
  {
   "cell_type": "code",
   "execution_count": null,
   "metadata": {},
   "outputs": [],
   "source": [
    "\n",
    "\n",
    "\n"
   ]
  },
  {
   "cell_type": "code",
   "execution_count": 2,
   "metadata": {},
   "outputs": [
    {
     "name": "stdout",
     "output_type": "stream",
     "text": [
      "['Buenos aires', 'Madrid', 'Paris', 'Tres Arroyos', 'Salta']\n"
     ]
    }
   ],
   "source": [
    "# 1) Crear una lista que contenga nombres de ciudades del mundo que contenga más de 5 elementos e imprimir por pantalla\n",
    "mi_lista = ['Buenos aires','Madrid','Paris','Tres Arroyos','Salta']\n",
    "print (mi_lista)"
   ]
  },
  {
   "cell_type": "code",
   "execution_count": 8,
   "metadata": {},
   "outputs": [
    {
     "name": "stdout",
     "output_type": "stream",
     "text": [
      "Paris\n"
     ]
    }
   ],
   "source": [
    "# 2) Imprimir por pantalla el segundo elemento de la lista\n",
    "print(mi_lista[2])"
   ]
  },
  {
   "cell_type": "code",
   "execution_count": 9,
   "metadata": {},
   "outputs": [
    {
     "name": "stdout",
     "output_type": "stream",
     "text": [
      "['Madrid', 'Paris', 'Tres Arroyos']\n"
     ]
    }
   ],
   "source": [
    "#3) Imprimir por pantalla del segundo al cuarto elemento\n",
    "print(mi_lista[1:4])"
   ]
  },
  {
   "cell_type": "code",
   "execution_count": 10,
   "metadata": {},
   "outputs": [
    {
     "data": {
      "text/plain": [
       "list"
      ]
     },
     "execution_count": 10,
     "metadata": {},
     "output_type": "execute_result"
    }
   ],
   "source": [
    "#4) Visualizar el tipo de dato de la lista\n",
    "type(mi_lista)"
   ]
  },
  {
   "cell_type": "code",
   "execution_count": 11,
   "metadata": {},
   "outputs": [
    {
     "name": "stdout",
     "output_type": "stream",
     "text": [
      "['Paris', 'Tres Arroyos', 'Salta']\n"
     ]
    }
   ],
   "source": [
    "#5) Visualizar todos los elementos de la lista a partir del tercero de manera genérica, es decir, sin explicitar la posición del último elemento\n",
    "print(mi_lista[2:])"
   ]
  },
  {
   "cell_type": "code",
   "execution_count": 14,
   "metadata": {},
   "outputs": [
    {
     "name": "stdout",
     "output_type": "stream",
     "text": [
      "['Buenos aires', 'Madrid', 'Paris', 'Tres Arroyos']\n"
     ]
    }
   ],
   "source": [
    "#6) Visualizar los primeros 4 elementos de la lista\n",
    "print(mi_lista[:4])"
   ]
  },
  {
   "cell_type": "code",
   "execution_count": 3,
   "metadata": {},
   "outputs": [
    {
     "name": "stdout",
     "output_type": "stream",
     "text": [
      "['Buenos aires', 'Madrid', 'Paris', 'Tres Arroyos', 'Salta', 'Bolivar', 'Mexico']\n"
     ]
    }
   ],
   "source": [
    "#7) Agregar una ciudad más a la lista que ya exista y otra que no ¿Arroja algún tipo de error?\n",
    "mi_lista.append('Bolivar')\n",
    "mi_lista.append('Mexico')\n",
    "print(mi_lista)"
   ]
  },
  {
   "cell_type": "code",
   "execution_count": 24,
   "metadata": {},
   "outputs": [],
   "source": [
    "#8) Agregar otra ciudad, pero en la cuarta posición\n",
    "mi_lista.insert(3,'Roma')"
   ]
  },
  {
   "cell_type": "code",
   "execution_count": 6,
   "metadata": {},
   "outputs": [
    {
     "name": "stdout",
     "output_type": "stream",
     "text": [
      "['Buenos aires', 'Madrid', 'Paris', 'Tres Arroyos', 'Salta', 'Bolivar', 'Mexico'] ['CHINA', 'JAPON']\n"
     ]
    }
   ],
   "source": [
    "#9) Concatenar otra lista a la ya creada\n",
    "mi_lista2 = ['CHINA','JAPON']\n",
    "print (mi_lista, mi_lista2)"
   ]
  },
  {
   "cell_type": "code",
   "execution_count": 29,
   "metadata": {},
   "outputs": [
    {
     "data": {
      "text/plain": [
       "6"
      ]
     },
     "execution_count": 29,
     "metadata": {},
     "output_type": "execute_result"
    }
   ],
   "source": [
    "#10) Encontrar el índice de la ciudad que en el punto 7 agregamos duplicada. ¿Se nota alguna particularidad?\n",
    "mi_lista.index('Bolivar')\n",
    "# devuelve la primera vez que aparece en la lista"
   ]
  },
  {
   "cell_type": "code",
   "execution_count": 7,
   "metadata": {},
   "outputs": [
    {
     "name": "stdout",
     "output_type": "stream",
     "text": [
      "['CHINA', 'JAPON']\n"
     ]
    }
   ],
   "source": [
    "#11) ¿Qué pasa si se busca un elemento que no existe?\n",
    "#mi_lista.index('Bolibar')\n",
    "#tira un error indicando que no está en la lista\n"
   ]
  },
  {
   "cell_type": "code",
   "execution_count": 4,
   "metadata": {},
   "outputs": [
    {
     "name": "stdout",
     "output_type": "stream",
     "text": [
      "['Buenos aires', 'Madrid', 'Paris', 'Tres Arroyos', 'Salta', 'Mexico']\n"
     ]
    }
   ],
   "source": [
    "#12) Eliminar un elemento de la lista\n",
    "mi_lista.remove('Bolivar')\n",
    "print (mi_lista)"
   ]
  },
  {
   "cell_type": "code",
   "execution_count": null,
   "metadata": {},
   "outputs": [],
   "source": [
    "#13) ¿Qué pasa si el elemento a eliminar no existe?\n",
    "#tira un error diciendo que el elemento a eliminar no está en la lista"
   ]
  },
  {
   "cell_type": "code",
   "execution_count": 5,
   "metadata": {},
   "outputs": [
    {
     "name": "stdout",
     "output_type": "stream",
     "text": [
      "Mexico\n"
     ]
    }
   ],
   "source": [
    "#14) Extraer el úlimo elemento de la lista, guardarlo en una variable e imprimirlo\n",
    "ultimo = mi_lista.pop()\n",
    "print(ultimo)"
   ]
  },
  {
   "cell_type": "code",
   "execution_count": 7,
   "metadata": {},
   "outputs": [
    {
     "name": "stdout",
     "output_type": "stream",
     "text": [
      "['Buenos aires', 'Madrid', 'Paris', 'Tres Arroyos', 'Salta', 'Buenos aires', 'Madrid', 'Paris', 'Tres Arroyos', 'Salta', 'Buenos aires', 'Madrid', 'Paris', 'Tres Arroyos', 'Salta', 'Buenos aires', 'Madrid', 'Paris', 'Tres Arroyos', 'Salta']\n"
     ]
    }
   ],
   "source": [
    "#15) Mostrar la lista multiplicada por 4\n",
    "print(mi_lista * 4)"
   ]
  },
  {
   "cell_type": "code",
   "execution_count": 12,
   "metadata": {},
   "outputs": [
    {
     "name": "stdout",
     "output_type": "stream",
     "text": [
      "(1, 2, 3, 4, 5, 6, 7, 8, 9, 10, 11, 12, 13, 14, 15, 16, 17, 18, 19, 20)\n"
     ]
    }
   ],
   "source": [
    "#16) Crear una tupla que contenga los números enteros del 1 al 20\n",
    "\n",
    "tupla = (1,2,3,4,5,6,7,8,9,10,11,12,13,14,15,16,17,18,19,20)\n",
    "type(tupla)\n",
    "print(tupla)"
   ]
  },
  {
   "cell_type": "code",
   "execution_count": 15,
   "metadata": {},
   "outputs": [
    {
     "name": "stdout",
     "output_type": "stream",
     "text": [
      "(10, 11, 12, 13, 14, 15)\n"
     ]
    }
   ],
   "source": [
    "#17) Imprimir desde el índice 10 al 15 de la tupla\n",
    "print(tupla[9:15])"
   ]
  },
  {
   "cell_type": "code",
   "execution_count": 24,
   "metadata": {},
   "outputs": [
    {
     "name": "stdout",
     "output_type": "stream",
     "text": [
      "20 está en la tupla\n",
      "30 no está en la tupla\n"
     ]
    }
   ],
   "source": [
    "#18) Evaluar si los números 20 y 30 están dentro de la tupla\n",
    "if 20 in tupla:\n",
    "        print ('20 está en la tupla')\n",
    "else: print ('20 no está en la tupla')\n",
    "if 30 in tupla:\n",
    "        print ('30 está en la tupla')\n",
    "else: print ('30 no está en la tupla')"
   ]
  },
  {
   "cell_type": "code",
   "execution_count": 52,
   "metadata": {},
   "outputs": [
    {
     "name": "stdout",
     "output_type": "stream",
     "text": [
      "Se agregó Paris a la lista\n"
     ]
    }
   ],
   "source": [
    "#9) Con la lista creada en el punto 1, validar la existencia del elemento 'París' y si no existe, agregarlo. Utilizar una variable e informar lo sucedido.\n",
    "ciudad = 'Paris'\n",
    "if ciudad in mi_lista:\n",
    "    print(ciudad, 'está en la lista')\n",
    "else: \n",
    "    mi_lista.append(ciudad) \n",
    "    print('Se agregó', ciudad, 'a la lista')"
   ]
  },
  {
   "cell_type": "code",
   "execution_count": 64,
   "metadata": {},
   "outputs": [
    {
     "name": "stdout",
     "output_type": "stream",
     "text": [
      "['Buenos aires', 'Madrid', 'Tres Arroyos', 'Roma', 'Paris', 'Buenos aires']\n"
     ]
    }
   ],
   "source": [
    "#mi_lista.remove('Cascallares')\n",
    "mi_lista.append('Buenos aires')\n",
    "\n",
    "print(mi_lista)"
   ]
  },
  {
   "cell_type": "code",
   "execution_count": 66,
   "metadata": {},
   "outputs": [
    {
     "name": "stdout",
     "output_type": "stream",
     "text": [
      "Buenos aires aparece en la lista 2 veces\n",
      "Buenos aires aparece en la tupla 0 veces\n"
     ]
    }
   ],
   "source": [
    "#20) Mostrar la cantidad de veces que se encuentra un elemento específico dentro de la tupla y de la lista\n",
    "objeto = 'Buenos aires'\n",
    "print (objeto, 'aparece en la lista', mi_lista.count(objeto), 'veces')\n",
    "print( objeto, 'aparece en la tupla', tupla.count(objeto),'veces')"
   ]
  },
  {
   "cell_type": "code",
   "execution_count": 68,
   "metadata": {},
   "outputs": [],
   "source": [
    "#21) Convertir la tupla en una lista\n",
    "lista3 = list(tupla)\n",
    "#type(lista3)"
   ]
  },
  {
   "cell_type": "code",
   "execution_count": 71,
   "metadata": {},
   "outputs": [
    {
     "name": "stdout",
     "output_type": "stream",
     "text": [
      "1 2 3\n"
     ]
    }
   ],
   "source": [
    "#2) Desempaquetar solo los primeros 3 elementos de la tupla en 3 variables\n",
    "primero = tupla[0]\n",
    "segundo = tupla[1]\n",
    "tercero = tupla[2]\n",
    "print (primero,segundo,tercero)"
   ]
  },
  {
   "cell_type": "code",
   "execution_count": 74,
   "metadata": {},
   "outputs": [
    {
     "name": "stdout",
     "output_type": "stream",
     "text": [
      "{'ciudad': [['Buenos aires', 'Madrid', 'Tres Arroyos', 'Roma', 'Paris', 'Buenos aires']], 'Pais': ['Argentina', 'Brasil'], 'Continente': ['America', 'Europa']}\n"
     ]
    }
   ],
   "source": [
    "#23) Crear un diccionario utilizando la lista crada en el punto 1, asignandole la clave \"ciudad\". \n",
    "#Agregar tambien otras claves, como puede ser \"Pais\" y \"Continente\".\n",
    "diccionario = { 'ciudad' : [mi_lista],\n",
    "               'Pais': ['Argentina','Brasil'] ,\n",
    "               'Continente': ['America', 'Europa']}\n",
    "\n",
    "print (diccionario)"
   ]
  },
  {
   "cell_type": "code",
   "execution_count": 78,
   "metadata": {},
   "outputs": [
    {
     "name": "stdout",
     "output_type": "stream",
     "text": [
      "dict_keys(['ciudad', 'Pais', 'Continente'])\n"
     ]
    }
   ],
   "source": [
    "print(diccionario.keys())"
   ]
  },
  {
   "cell_type": "code",
   "execution_count": 82,
   "metadata": {},
   "outputs": [
    {
     "name": "stdout",
     "output_type": "stream",
     "text": [
      "[['Buenos aires', 'Madrid', 'Tres Arroyos', 'Roma', 'Paris', 'Buenos aires']]\n"
     ]
    }
   ],
   "source": [
    "#25) Imprimir las ciudades a través de su clave\n",
    "print(diccionario['ciudad'])"
   ]
  }
 ],
 "metadata": {
  "kernelspec": {
   "display_name": "Python 3",
   "language": "python",
   "name": "python3"
  },
  "language_info": {
   "codemirror_mode": {
    "name": "ipython",
    "version": 3
   },
   "file_extension": ".py",
   "mimetype": "text/x-python",
   "name": "python",
   "nbconvert_exporter": "python",
   "pygments_lexer": "ipython3",
   "version": "3.11.3"
  },
  "orig_nbformat": 4
 },
 "nbformat": 4,
 "nbformat_minor": 2
}
