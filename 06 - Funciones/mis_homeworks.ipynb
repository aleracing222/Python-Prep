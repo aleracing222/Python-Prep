{
 "cells": [
  {
   "cell_type": "code",
   "execution_count": 6,
   "metadata": {},
   "outputs": [
    {
     "data": {
      "text/plain": [
       "False"
      ]
     },
     "execution_count": 6,
     "metadata": {},
     "output_type": "execute_result"
    }
   ],
   "source": [
    "# 1) Crear una función que reciba un número como parámetro y devuelva si True si es primo y False si no lo es\n",
    "\n",
    "def ver_si_es_primo(numero):\n",
    "    primo = True\n",
    "    divisor = 2\n",
    "    while divisor < numero:\n",
    "        if (numero % divisor == 0):\n",
    "            primo = False\n",
    "            break\n",
    "        divisor += 1\n",
    "    return primo\n",
    "#ver_si_es_primo(12)"
   ]
  },
  {
   "cell_type": "code",
   "execution_count": 23,
   "metadata": {},
   "outputs": [],
   "source": [
    "# 2) Utilizando la función del punto 1, realizar otra función que reciba de parámetro una lista de números y \n",
    "# devuelva sólo aquellos que son primos en otra lista\n",
    "def chequear_varios_primos (lista):\n",
    "    lista_primos = []\n",
    "    for elemento in lista:\n",
    "        if ver_si_es_primo (elemento):\n",
    "            lista_primos.append(elemento)\n",
    "    return(lista_primos)\n",
    "\n",
    "\n",
    "\n"
   ]
  },
  {
   "cell_type": "code",
   "execution_count": 27,
   "metadata": {},
   "outputs": [
    {
     "data": {
      "text/plain": [
       "[7, 11, 13, 2]"
      ]
     },
     "execution_count": 27,
     "metadata": {},
     "output_type": "execute_result"
    }
   ],
   "source": [
    "chequear_varios_primos([7,8,11,13,2,16,6])\n",
    "\n"
   ]
  },
  {
   "cell_type": "code",
   "execution_count": 2,
   "metadata": {},
   "outputs": [],
   "source": [
    "#3) Crear una función que al recibir una lista de números, devuelva el que más se repite y cuántas veces lo hace. \n",
    "#Si hay más de un \"más repetido\", que devuelva cualquiera\n",
    "\n",
    "def contar_el_mas_repetido (listas):\n",
    "    max = 0\n",
    "    numero_max = 0\n",
    "    for i in listas:\n",
    "        repetido = listas.count(i)\n",
    "        if repetido > max:\n",
    "            max = repetido\n",
    "            numero_max = i\n",
    "    return numero_max, max\n",
    "\n"
   ]
  },
  {
   "cell_type": "code",
   "execution_count": 16,
   "metadata": {},
   "outputs": [
    {
     "data": {
      "text/plain": [
       "(7, 5)"
      ]
     },
     "execution_count": 16,
     "metadata": {},
     "output_type": "execute_result"
    }
   ],
   "source": [
    "contar_el_mas_repetido([2,2,3,4,5,6,7,7,7,7,7,8,8,8,8,8])"
   ]
  },
  {
   "cell_type": "code",
   "execution_count": 22,
   "metadata": {},
   "outputs": [],
   "source": [
    "#4) A la función del punto 3, agregar un parámetro más, que permita elegir si se requiere el menor o el mayor de los mas repetidos.\n",
    "def contar_el_mas_repetido (listas):\n",
    "    max = 0\n",
    "    numero_max = 0\n",
    "    repetidos = []\n",
    "    for i in listas:\n",
    "        repetido = listas.count(i)\n",
    "        repetidos.append(repetido)\n",
    "        if repetido > max:\n",
    "            max = repetido\n",
    "            numero_max = i\n",
    "            print(repetidos)\n",
    "    return numero_max, max\n",
    "    "
   ]
  },
  {
   "cell_type": "code",
   "execution_count": 23,
   "metadata": {},
   "outputs": [
    {
     "name": "stdout",
     "output_type": "stream",
     "text": [
      "[4]\n"
     ]
    },
    {
     "data": {
      "text/plain": [
       "(1, 4)"
      ]
     },
     "execution_count": 23,
     "metadata": {},
     "output_type": "execute_result"
    }
   ],
   "source": [
    "contar_el_mas_repetido([1,1,1,1,2])"
   ]
  },
  {
   "cell_type": "code",
   "execution_count": null,
   "metadata": {},
   "outputs": [],
   "source": [
    "\n",
    "\n",
    "\n",
    "4) A la función del punto 3, agregar un parámetro más, que permita elegir si se requiere el menor o el mayor de los mas repetidos.\n",
    "\n",
    "5) Crear una función que convierta entre grados Celsius, Farenheit y Kelvin<br>\n",
    "Fórmula 1\t: (°C × 9/5) + 32 = °F<br>\n",
    "Fórmula 2\t: °C + 273.15 = °K<br>\n",
    "Debe recibir 3 parámetros: el valor, la medida de orígen y la medida de destino\n",
    "\n",
    "\n",
    "6) Iterando una lista con los tres valores posibles de temperatura que recibe la función del punto 5, hacer un print para cada combinación de los mismos:\n",
    "\n",
    "7) Armar una función que devuelva el factorial de un número. Tener en cuenta que el usuario puede equivocarse y enviar de parámetro un número no entero o negativo"
   ]
  }
 ],
 "metadata": {
  "kernelspec": {
   "display_name": "Python 3",
   "language": "python",
   "name": "python3"
  },
  "language_info": {
   "codemirror_mode": {
    "name": "ipython",
    "version": 3
   },
   "file_extension": ".py",
   "mimetype": "text/x-python",
   "name": "python",
   "nbconvert_exporter": "python",
   "pygments_lexer": "ipython3",
   "version": "3.11.3"
  },
  "orig_nbformat": 4
 },
 "nbformat": 4,
 "nbformat_minor": 2
}
