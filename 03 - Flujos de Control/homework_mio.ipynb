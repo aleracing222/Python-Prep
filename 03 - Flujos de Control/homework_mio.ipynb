{
 "cells": [
  {
   "cell_type": "code",
   "execution_count": 1,
   "metadata": {},
   "outputs": [],
   "source": [
    "## Flujos de Control\n",
    "\n",
    "\n",
    "\n",
    "##10) ¿Se puede mejorar el proceso del punto 9? Utilizar las sentencias break y/ó continue para tal fin\n",
    "##11) En los puntos 9 y 10, se diseño un código que encuentra números primos y además se lo optimizó. ¿Es posible saber en qué medida se optimizó?\n",
    "##12) Si la cantidad de números que se evalúa es mayor a treinta, esa optimización crece?\n",
    "##13) Aplicando continue, armar un ciclo while que solo imprima los valores divisibles por 12, dentro del rango de números de 100 a 300\n",
    "##14) Utilizar la función **input()** que permite hacer ingresos por teclado, para encontrar números primos y dar la opción al usario de buscar el siguiente\n",
    "##15) Crear un ciclo while que encuentre dentro del rango de 100 a 300 el primer número divisible por 3 y además múltiplo de 6"
   ]
  },
  {
   "cell_type": "code",
   "execution_count": 5,
   "metadata": {},
   "outputs": [
    {
     "name": "stdout",
     "output_type": "stream",
     "text": [
      "el valor es cero\n"
     ]
    }
   ],
   "source": [
    "# 1) Crear una variable que contenga un elemento del conjunto de números enteros y luego imprimir por pantalla si es mayor o menor a cero\n",
    "a = 0\n",
    "if (a > 0):\n",
    "    print (\"el valor es mayor a cero\")\n",
    "elif (a < 0):\n",
    "    print (\"el valor es menor a cero\")\n",
    "else:\n",
    "    print (\"el valor es cero\")"
   ]
  },
  {
   "cell_type": "code",
   "execution_count": 3,
   "metadata": {},
   "outputs": [
    {
     "name": "stdout",
     "output_type": "stream",
     "text": [
      "las variables son de distinto tipo\n"
     ]
    }
   ],
   "source": [
    "##2) Crear dos variables y un condicional que informe si son del mismo tipo de dato\n",
    "b=1\n",
    "c=\"a\"\n",
    "if (type(b) == type(c)):\n",
    "    print (\"las variables son del mismo tipo\")\n",
    "else:\n",
    "    print (\"las variables son de distinto tipo\")"
   ]
  },
  {
   "cell_type": "code",
   "execution_count": null,
   "metadata": {},
   "outputs": [],
   "source": [
    "##3) Para los valores enteros del 1 al 20, imprimir por pantalla si es par o impar\n",
    "d = 0\n",
    "while d < 21:\n",
    "    if d % 2 == 0:\n",
    "        print (str(d) + \" es par\")\n",
    "    else: print (str(d) + \" es impar\")\n",
    "    d = d+1"
   ]
  },
  {
   "cell_type": "code",
   "execution_count": null,
   "metadata": {},
   "outputs": [],
   "source": [
    "##4) En un ciclo for mostrar para los valores entre 0 y 5 el resultado de elevarlo a la potencia igual a 3\n",
    "for e in range (0,6):\n",
    "        print (e ** 3)\n",
    "       "
   ]
  },
  {
   "cell_type": "code",
   "execution_count": null,
   "metadata": {},
   "outputs": [],
   "source": [
    "##5) Crear una variable que contenga un número entero y realizar un ciclo for la misma cantidad de ciclos\n",
    "f = 5\n",
    "for g in range (0,f):\n",
    "    print (\"hola\")"
   ]
  },
  {
   "cell_type": "code",
   "execution_count": 71,
   "metadata": {},
   "outputs": [
    {
     "name": "stdout",
     "output_type": "stream",
     "text": [
      "El factorial de 4 es 24\n"
     ]
    }
   ],
   "source": [
    "##6) Utilizar un ciclo while para realizar el factorial de un número guardado en una variable, sólo si la variable contiene un número entero mayor a 0\n",
    "i = 4\n",
    "j = i\n",
    "if type(i) == int and i > 0:\n",
    "    ##print (True)\n",
    "    factorial = 1\n",
    "    while i > 0:\n",
    "        factorial = factorial * i \n",
    "        i -= 1\n",
    "        if i == 1:\n",
    "            print (f\"El factorial de {j} es {factorial}\") \n",
    "else: print (\"numero invalido\")"
   ]
  },
  {
   "cell_type": "code",
   "execution_count": null,
   "metadata": {},
   "outputs": [],
   "source": [
    "##7) Crear un ciclo for dentro de un ciclo while\n",
    "ale = 5\n",
    "while ale > 0:\n",
    "    for z in range (0,ale):\n",
    "        print (z)\n",
    "        ale = ale - 2"
   ]
  },
  {
   "cell_type": "code",
   "execution_count": null,
   "metadata": {},
   "outputs": [],
   "source": [
    "##9) Imprimir los números primos existentes entre 0 y 30\n",
    "min = 1\n",
    "max = 30\n",
    "for n in range(min, (max + 1)):\n",
    "    primo = True\n",
    "    j = 2\n",
    "    while(j < n):\n",
    "        if (n % j == 0):\n",
    "            primo = False\n",
    "            break\n",
    "        j += 1\n",
    "    if (primo):\n",
    "        print('El número', n, 'es primo')"
   ]
  }
 ],
 "metadata": {
  "kernelspec": {
   "display_name": "Python 3",
   "language": "python",
   "name": "python3"
  },
  "language_info": {
   "codemirror_mode": {
    "name": "ipython",
    "version": 3
   },
   "file_extension": ".py",
   "mimetype": "text/x-python",
   "name": "python",
   "nbconvert_exporter": "python",
   "pygments_lexer": "ipython3",
   "version": "3.11.3"
  },
  "orig_nbformat": 4
 },
 "nbformat": 4,
 "nbformat_minor": 2
}
